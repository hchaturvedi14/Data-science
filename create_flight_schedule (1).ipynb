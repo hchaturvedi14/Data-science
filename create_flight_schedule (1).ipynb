{
 "cells": [
  {
   "cell_type": "code",
   "execution_count": 1,
   "metadata": {
    "collapsed": true
   },
   "outputs": [],
   "source": [
    "#Number of aircrafts available\n",
    "Tail_number = ('T1','T2','T3','T4','T5','T6')\n",
    "#Airport details\n",
    "airport = ('AUS','DAL','HOU')\n",
    "#flight time\n",
    "flight_time = {'AUS-DAL':50,'AUS-HOU':45,'DAL-HOU':65}\n",
    "#Number of gates at a given airport\n",
    "gates=[['AUS',1],['DAL',2],['HOU',3]]\n",
    "#Ground time of each airport\n",
    "ground_time = {'AUS':25,'DAL':30,'HOU':35}\n",
    "#defining function to convert military time to normal time\n",
    "def TimeConv(minutes):\n",
    "    ###    \n",
    "    if minutes < 720:\n",
    "        h = minutes // 60 \n",
    "        m = minutes % 60\n",
    "        return(\"{0:02d}{1:02d}\".format(h, m))\n",
    "    elif minutes == 720:\n",
    "        h = 1200\n",
    "        return(\"1200\")\n",
    "    else:\n",
    "        h = ((minutes-720) // 60) + 12\n",
    "        m = (minutes) % 60\n",
    "        return(\"{0:02d}{1:02d}\".format(h, m))    \n",
    "#variable declaration in minutes since midnight    \n",
    "start_time_military = 360\n",
    "end_time_military = 1320\n",
    "DepartureAtoD = 360\n",
    "#DepartureDtoA = 360\n",
    "flight_schedule = []\n",
    "# Schedule logic\n",
    "while start_time_military < end_time_military:\n",
    "        ArriveDtoA = DepartureAtoD + flight_time['AUS-DAL']\n",
    "        flight_schedule.append(['T1', 'AUS', 'DAL', TimeConv(DepartureAtoD), TimeConv(ArriveDtoA)])\n",
    "        DepartureDtoA = ArriveDtoA + ground_time['DAL'] \n",
    "        ArriveAtoD = DepartureDtoA + flight_time['AUS-DAL']\n",
    "        TempAtoD = DepartureAtoD   \n",
    "        DepartureAtoD = ArriveAtoD + ground_time['AUS']\n",
    "        flight_schedule.append(['T1', 'DAL','AUS', TimeConv(DepartureDtoA), TimeConv(ArriveAtoD)])\n",
    "        #start_time_military = DepartureAtoD+ flight_time['AUS-DAL'] +flight_time['AUS-DAL']+ ground_time['DAL'] #\n",
    "        if TempAtoD == 360:\n",
    "            DepartureHtoA = TempAtoD\n",
    "            ArriveAtoH = DepartureHtoA + flight_time['AUS-HOU']\n",
    "            flight_schedule.append(['T3', 'HOU','AUS', TimeConv(DepartureHtoA), TimeConv(ArriveAtoH)])\n",
    "            DepartureAtoH = ArriveAtoH + ground_time['AUS']\n",
    "            ArriveHtoA = DepartureAtoH + flight_time['AUS-HOU']\n",
    "            flight_schedule.append(['T3', 'AUS','HOU', TimeConv(DepartureAtoH), TimeConv(ArriveHtoA)])\n",
    "        else:   \n",
    "            ArriveHtoA = TempAtoD + 1\n",
    "         #   DepartureHtoA = ArriveHtoA - flight_time['AUS-HOU']\n",
    "            DepartureHtoA = ArriveHtoA - flight_time['AUS-HOU']\n",
    "            DepartureAtoH = ArriveHtoA + ground_time['AUS']\n",
    "            ArriveAtoH = DepartureAtoH + flight_time['AUS-HOU']\n",
    "            flight_schedule.append(['T3', 'HOU','AUS', TimeConv(DepartureHtoA), TimeConv(ArriveHtoA)])\n",
    "            flight_schedule.append(['T3', 'AUS','HOU', TimeConv(DepartureAtoH), TimeConv(ArriveAtoH)])   \n",
    "          #  DepartureAtoD = ArriveAtoD + ground_time['AUS']\n",
    "       # DepartureAtoD = ArriveAtoD + ground_time['AUS']    \n",
    "        start_time_military = DepartureAtoD  \n",
    "#flight_schedule for T2 -  Dallas to Houston \n",
    "start_time_military1 = 360\n",
    "end_time_military1 = 1320\n",
    "DepartureDtoH = 360\n",
    "while start_time_military1 < end_time_military1:\n",
    "        ArriveHtoD = DepartureDtoH + flight_time['DAL-HOU']\n",
    "        flight_schedule.append(['T2','DAL','HOU', TimeConv(DepartureDtoH), TimeConv(ArriveHtoD)])\n",
    "        DepartureHtoD = ArriveHtoD + ground_time['HOU']\n",
    "        ArriveDtoH = DepartureHtoD + flight_time['DAL-HOU']\n",
    "        DepartureDtoH = ArriveDtoH + ground_time['DAL']\n",
    "        flight_schedule.append(['T2', 'HOU','DAL', TimeConv(DepartureHtoD), TimeConv(ArriveDtoH)])\n",
    "        start_time_military1 = DepartureDtoH  \n",
    "#flight Schedule T4  Houston to Dallas\n",
    "start_time_military2 = 360\n",
    "end_time_military2 = 1320\n",
    "DepartureHtoD = 360\n",
    "while start_time_military2 < end_time_military2:\n",
    "        ArriveDtoH = DepartureHtoD + flight_time['DAL-HOU']\n",
    "        flight_schedule.append(['T4','HOU','DAL', TimeConv(DepartureHtoD), TimeConv(ArriveDtoH)])\n",
    "        DepartureDtoH = ArriveDtoH + ground_time['DAL']\n",
    "        ArriveHtoD = DepartureDtoH + flight_time['DAL-HOU']\n",
    "        DepartureHtoD = ArriveHtoD + ground_time['HOU']\n",
    "        flight_schedule.append(['T4', 'DAL','HOU', TimeConv(DepartureDtoH), TimeConv(ArriveHtoD)])\n",
    "        start_time_military2 = DepartureHtoD\n",
    "#sort the flight schedule according to tail number and departure time\n",
    "flight_schedule_sort = sorted(flight_schedule)\n",
    "#   print(flight_schedule_sort)\n",
    "csv_header = 'tail_number,origin,destination,departure_time,arrival_time' \n",
    "file_name = 'flight_schedule.csv'\n",
    "            \n",
    "def print_flight_schedule(file_name, csv_header, flight_schedule): \n",
    "        with open(file_name,'wt') as f:\n",
    "            print(csv_header, file=f) \n",
    "            for s in flight_schedule:\n",
    "                print(','.join(s), file=f)\n",
    "print_flight_schedule(file_name, csv_header, flight_schedule_sort)                       "
   ]
  },
  {
   "cell_type": "code",
   "execution_count": 2,
   "metadata": {
    "collapsed": true
   },
   "outputs": [],
   "source": [
    "print_flight_schedule(file_name, csv_header, flight_schedule_sort)"
   ]
  },
  {
   "cell_type": "code",
   "execution_count": null,
   "metadata": {
    "collapsed": true
   },
   "outputs": [],
   "source": []
  }
 ],
 "metadata": {
  "kernelspec": {
   "display_name": "Python 3",
   "language": "python",
   "name": "python3"
  },
  "language_info": {
   "codemirror_mode": {
    "name": "ipython",
    "version": 3
   },
   "file_extension": ".py",
   "mimetype": "text/x-python",
   "name": "python",
   "nbconvert_exporter": "python",
   "pygments_lexer": "ipython3",
   "version": "3.6.1"
  }
 },
 "nbformat": 4,
 "nbformat_minor": 2
}
